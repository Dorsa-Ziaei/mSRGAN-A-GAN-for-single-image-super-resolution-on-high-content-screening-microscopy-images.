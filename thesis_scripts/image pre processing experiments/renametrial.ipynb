{
 "cells": [
  {
   "cell_type": "code",
   "execution_count": 1,
   "metadata": {
    "collapsed": true
   },
   "outputs": [],
   "source": [
    "import os\n",
    "from os import rename\n",
    "import csv\n",
    "\n",
    "os.chdir(\"C:/Users/Saurabh/Desktop/_50_/batch1/\")"
   ]
  },
  {
   "cell_type": "code",
   "execution_count": 7,
   "metadata": {
    "collapsed": true
   },
   "outputs": [],
   "source": [
    "path = \"C:/Users/Saurabh/Desktop/_50_\"   #change for king\n",
    "new_path = \"C:/Users/Saurabh/Desktop/cyto2017/mito_nui/renamed/\"  #change for king\n",
    " \n",
    "files = os.listdir(\"C:/Users/Saurabh/Desktop/_50_/batch1/\")  #Image files path\n",
    "\n",
    "#print(files)\n",
    "\n",
    "#reader = csv.reader(open(\"C:/Users/Saurabh/Desktop/_50_/major13soln_hacky.csv\", \"r\"), delimiter=\",\") #change for king\n",
    "reader = csv.reader(open(\"C:/Users/Saurabh/Desktop/mito_nui.csv\", \"r\"), delimiter=\",\") #change for king\n",
    "\n",
    "\n",
    "labels = list(reader)\n"
   ]
  },
  {
   "cell_type": "code",
   "execution_count": 8,
   "metadata": {
    "collapsed": false
   },
   "outputs": [
    {
     "data": {
      "text/plain": [
       "'100_green.tif.gz'"
      ]
     },
     "execution_count": 8,
     "metadata": {},
     "output_type": "execute_result"
    }
   ],
   "source": [
    "files[1]"
   ]
  },
  {
   "cell_type": "code",
   "execution_count": 12,
   "metadata": {
    "collapsed": false
   },
   "outputs": [
    {
     "name": "stdout",
     "output_type": "stream",
     "text": [
      "sth100_green.tif.gz\n"
     ]
    }
   ],
   "source": [
    "a = files[1]\n",
    "c =  \"sth\" + a\n",
    "print(c)"
   ]
  },
  {
   "cell_type": "code",
   "execution_count": 15,
   "metadata": {
    "collapsed": true
   },
   "outputs": [],
   "source": [
    "#os.chdir(\"C:/Users/Saurabh/Desktop/_50_/\")\n",
    "os.rename(\"C:/Users/Saurabh/Desktop/_50_/batch1/\"+a,\"C:/Users/Saurabh/Desktop/_50_/classes/00/\"+c)"
   ]
  },
  {
   "cell_type": "code",
   "execution_count": 27,
   "metadata": {
    "collapsed": true
   },
   "outputs": [],
   "source": [
    " \n",
    "files = os.listdir(\"C:/Users/Saurabh/Desktop/_50_/classes/01/\") "
   ]
  },
  {
   "cell_type": "code",
   "execution_count": 17,
   "metadata": {
    "collapsed": true
   },
   "outputs": [],
   "source": [
    "a = files[1]"
   ]
  },
  {
   "cell_type": "code",
   "execution_count": 18,
   "metadata": {
    "collapsed": false
   },
   "outputs": [
    {
     "name": "stdout",
     "output_type": "stream",
     "text": [
      "01_12_green.ti_Nucleoli.tif\n"
     ]
    }
   ],
   "source": [
    "print(a)"
   ]
  },
  {
   "cell_type": "code",
   "execution_count": 19,
   "metadata": {
    "collapsed": true
   },
   "outputs": [],
   "source": [
    "b = a.split(\"_\",3)"
   ]
  },
  {
   "cell_type": "code",
   "execution_count": 20,
   "metadata": {
    "collapsed": false
   },
   "outputs": [
    {
     "name": "stdout",
     "output_type": "stream",
     "text": [
      "['01', '12', 'green.ti', 'Nucleoli.tif']\n"
     ]
    }
   ],
   "source": [
    "print(b)"
   ]
  },
  {
   "cell_type": "code",
   "execution_count": 21,
   "metadata": {
    "collapsed": false
   },
   "outputs": [
    {
     "name": "stdout",
     "output_type": "stream",
     "text": [
      "12\n"
     ]
    }
   ],
   "source": [
    "print(b[1])"
   ]
  },
  {
   "cell_type": "code",
   "execution_count": 24,
   "metadata": {
    "collapsed": false
   },
   "outputs": [
    {
     "name": "stdout",
     "output_type": "stream",
     "text": [
      "12_green.ti\n"
     ]
    }
   ],
   "source": [
    "c = b[1]  + \"_\" + b[2]\n",
    "print(c)"
   ]
  },
  {
   "cell_type": "code",
   "execution_count": 25,
   "metadata": {
    "collapsed": true
   },
   "outputs": [
    {
     "name": "stdout",
     "output_type": "stream",
     "text": [
      "01_12_blue.ti_Nucleoli.tif  is renamed to  12_blue.ti\n",
      "01_12_green.ti_Nucleoli.tif  is renamed to  12_green.ti\n",
      "01_12_red.ti_Nucleoli.tif  is renamed to  12_red.ti\n",
      "01_15_blue.ti_Nucleoli.tif  is renamed to  15_blue.ti\n",
      "01_15_green.ti_Nucleoli.tif  is renamed to  15_green.ti\n",
      "01_15_red.ti_Nucleoli.tif  is renamed to  15_red.ti\n",
      "01_16_blue.ti_Nucleoli.tif  is renamed to  16_blue.ti\n",
      "01_16_green.ti_Nucleoli.tif  is renamed to  16_green.ti\n",
      "01_16_red.ti_Nucleoli.tif  is renamed to  16_red.ti\n",
      "01_17_blue.ti_Nucleoli.tif  is renamed to  17_blue.ti\n",
      "01_17_green.ti_Nucleoli.tif  is renamed to  17_green.ti\n",
      "01_17_red.ti_Nucleoli.tif  is renamed to  17_red.ti\n",
      "01_1_blue.ti_Nucleoli.tif  is renamed to  1_blue.ti\n",
      "01_1_green.ti_Nucleoli.tif  is renamed to  1_green.ti\n",
      "01_1_red.ti_Nucleoli.tif  is renamed to  1_red.ti\n",
      "01_20_blue.ti_Nucleoli.tif  is renamed to  20_blue.ti\n",
      "01_20_green.ti_Nucleoli.tif  is renamed to  20_green.ti\n",
      "01_20_red.ti_Nucleoli.tif  is renamed to  20_red.ti\n",
      "01_22_blue.ti_Nucleoli.tif  is renamed to  22_blue.ti\n",
      "01_22_green.ti_Nucleoli.tif  is renamed to  22_green.ti\n",
      "01_22_red.ti_Nucleoli.tif  is renamed to  22_red.ti\n",
      "01_24_blue.ti_Nucleoli.tif  is renamed to  24_blue.ti\n",
      "01_24_green.ti_Nucleoli.tif  is renamed to  24_green.ti\n",
      "01_24_red.ti_Nucleoli.tif  is renamed to  24_red.ti\n",
      "01_25_blue.ti_Nucleoli.tif  is renamed to  25_blue.ti\n",
      "01_25_green.ti_Nucleoli.tif  is renamed to  25_green.ti\n",
      "01_25_red.ti_Nucleoli.tif  is renamed to  25_red.ti\n",
      "01_2_blue.ti_Nucleoli.tif  is renamed to  2_blue.ti\n",
      "01_2_green.ti_Nucleoli.tif  is renamed to  2_green.ti\n",
      "01_2_red.ti_Nucleoli.tif  is renamed to  2_red.ti\n",
      "01_32_blue.ti_Nucleoli.tif  is renamed to  32_blue.ti\n",
      "01_32_green.ti_Nucleoli.tif  is renamed to  32_green.ti\n",
      "01_32_red.ti_Nucleoli.tif  is renamed to  32_red.ti\n",
      "01_35_blue.ti_Nucleoli.tif  is renamed to  35_blue.ti\n",
      "01_35_green.ti_Nucleoli.tif  is renamed to  35_green.ti\n",
      "01_35_red.ti_Nucleoli.tif  is renamed to  35_red.ti\n",
      "01_36_blue.ti_Nucleoli.tif  is renamed to  36_blue.ti\n",
      "01_36_green.ti_Nucleoli.tif  is renamed to  36_green.ti\n",
      "01_36_red.ti_Nucleoli.tif  is renamed to  36_red.ti\n",
      "01_3_blue.ti_Nucleoli.tif  is renamed to  3_blue.ti\n",
      "01_3_green.ti_Nucleoli.tif  is renamed to  3_green.ti\n",
      "01_3_red.ti_Nucleoli.tif  is renamed to  3_red.ti\n",
      "01_43_blue.ti_Nucleoli.tif  is renamed to  43_blue.ti\n",
      "01_43_green.ti_Nucleoli.tif  is renamed to  43_green.ti\n",
      "01_43_red.ti_Nucleoli.tif  is renamed to  43_red.ti\n",
      "01_44_blue.ti_Nucleoli.tif  is renamed to  44_blue.ti\n",
      "01_44_green.ti_Nucleoli.tif  is renamed to  44_green.ti\n",
      "01_44_red.ti_Nucleoli.tif  is renamed to  44_red.ti\n",
      "01_45_blue.ti_Nucleoli.tif  is renamed to  45_blue.ti\n",
      "01_45_green.ti_Nucleoli.tif  is renamed to  45_green.ti\n",
      "01_45_red.ti_Nucleoli.tif  is renamed to  45_red.ti\n",
      "01_46_blue.ti_Nucleoli.tif  is renamed to  46_blue.ti\n",
      "01_46_green.ti_Nucleoli.tif  is renamed to  46_green.ti\n",
      "01_46_red.ti_Nucleoli.tif  is renamed to  46_red.ti\n",
      "01_47_blue.ti_Nucleoli.tif  is renamed to  47_blue.ti\n",
      "01_47_green.ti_Nucleoli.tif  is renamed to  47_green.ti\n",
      "01_47_red.ti_Nucleoli.tif  is renamed to  47_red.ti\n",
      "01_48_blue.ti_Nucleoli.tif  is renamed to  48_blue.ti\n",
      "01_48_green.ti_Nucleoli.tif  is renamed to  48_green.ti\n",
      "01_48_red.ti_Nucleoli.tif  is renamed to  48_red.ti\n",
      "01_4_blue.ti_Nucleoli.tif  is renamed to  4_blue.ti\n",
      "01_4_green.ti_Nucleoli.tif  is renamed to  4_green.ti\n",
      "01_4_red.ti_Nucleoli.tif  is renamed to  4_red.ti\n",
      "01_51_blue.ti_Nucleoli.tif  is renamed to  51_blue.ti\n",
      "01_51_green.ti_Nucleoli.tif  is renamed to  51_green.ti\n",
      "01_51_red.ti_Nucleoli.tif  is renamed to  51_red.ti\n",
      "01_53_blue.ti_Nucleoli.tif  is renamed to  53_blue.ti\n",
      "01_53_green.ti_Nucleoli.tif  is renamed to  53_green.ti\n",
      "01_53_red.ti_Nucleoli.tif  is renamed to  53_red.ti\n",
      "01_54_blue.ti_Nucleoli.tif  is renamed to  54_blue.ti\n",
      "01_54_green.ti_Nucleoli.tif  is renamed to  54_green.ti\n",
      "01_54_red.ti_Nucleoli.tif  is renamed to  54_red.ti\n",
      "01_55_blue.ti_Nucleoli.tif  is renamed to  55_blue.ti\n",
      "01_55_green.ti_Nucleoli.tif  is renamed to  55_green.ti\n",
      "01_55_red.ti_Nucleoli.tif  is renamed to  55_red.ti\n",
      "01_57_blue.ti_Nucleoli.tif  is renamed to  57_blue.ti\n",
      "01_57_green.ti_Nucleoli.tif  is renamed to  57_green.ti\n",
      "01_57_red.ti_Nucleoli.tif  is renamed to  57_red.ti\n",
      "01_64_blue.ti_Nucleoli.tif  is renamed to  64_blue.ti\n",
      "01_64_green.ti_Nucleoli.tif  is renamed to  64_green.ti\n",
      "01_64_red.ti_Nucleoli.tif  is renamed to  64_red.ti\n",
      "01_65_blue.ti_Nucleoli.tif  is renamed to  65_blue.ti\n",
      "01_65_green.ti_Nucleoli.tif  is renamed to  65_green.ti\n",
      "01_65_red.ti_Nucleoli.tif  is renamed to  65_red.ti\n",
      "01_72_blue.ti_Nucleoli.tif  is renamed to  72_blue.ti\n",
      "01_72_green.ti_Nucleoli.tif  is renamed to  72_green.ti\n",
      "01_72_red.ti_Nucleoli.tif  is renamed to  72_red.ti\n",
      "01_74_blue.ti_Nucleoli.tif  is renamed to  74_blue.ti\n",
      "01_74_green.ti_Nucleoli.tif  is renamed to  74_green.ti\n",
      "01_74_red.ti_Nucleoli.tif  is renamed to  74_red.ti\n",
      "01_75_blue.ti_Nucleoli.tif  is renamed to  75_blue.ti\n",
      "01_75_green.ti_Nucleoli.tif  is renamed to  75_green.ti\n",
      "01_75_red.ti_Nucleoli.tif  is renamed to  75_red.ti\n",
      "01_77_blue.ti_Nucleoli.tif  is renamed to  77_blue.ti\n",
      "01_77_green.ti_Nucleoli.tif  is renamed to  77_green.ti\n",
      "01_77_red.ti_Nucleoli.tif  is renamed to  77_red.ti\n",
      "01_81_blue.ti_Nucleoli.tif  is renamed to  81_blue.ti\n",
      "01_81_green.ti_Nucleoli.tif  is renamed to  81_green.ti\n",
      "01_81_red.ti_Nucleoli.tif  is renamed to  81_red.ti\n",
      "01_82_blue.ti_Nucleoli.tif  is renamed to  82_blue.ti\n",
      "01_82_green.ti_Nucleoli.tif  is renamed to  82_green.ti\n",
      "01_82_red.ti_Nucleoli.tif  is renamed to  82_red.ti\n",
      "01_87_blue.ti_Nucleoli.tif  is renamed to  87_blue.ti\n",
      "01_87_green.ti_Nucleoli.tif  is renamed to  87_green.ti\n",
      "01_87_red.ti_Nucleoli.tif  is renamed to  87_red.ti\n",
      "01_88_blue.ti_Nucleoli.tif  is renamed to  88_blue.ti\n",
      "01_88_green.ti_Nucleoli.tif  is renamed to  88_green.ti\n",
      "01_88_red.ti_Nucleoli.tif  is renamed to  88_red.ti\n",
      "01_9_blue.ti_Nucleoli.tif  is renamed to  9_blue.ti\n",
      "01_9_green.ti_Nucleoli.tif  is renamed to  9_green.ti\n",
      "01_9_red.ti_Nucleoli.tif  is renamed to  9_red.ti\n"
     ]
    }
   ],
   "source": [
    "for i in range(0, len(files)):\n",
    "    a = []\n",
    "    b = []\n",
    "    a = files[i]\n",
    "    b = a.split(\"_\",3)\n",
    "    c = b[1]  + \"_\" + b[2] + \".tif\"\n",
    "    \n",
    "    os.chdir(\"C:/Users/Saurabh/Desktop/_50_/classes/01/\")\n",
    "    os.rename(a,c)\n",
    "    print(a, \" is renamed to \",c)\n",
    "\n",
    "    \n",
    "    "
   ]
  },
  {
   "cell_type": "code",
   "execution_count": 28,
   "metadata": {
    "collapsed": false
   },
   "outputs": [
    {
     "name": "stdout",
     "output_type": "stream",
     "text": [
      "12_blue.ti  is renamed to  12_blue.ti.tif\n",
      "12_green.ti  is renamed to  12_green.ti.tif\n",
      "12_red.ti  is renamed to  12_red.ti.tif\n",
      "15_blue.ti  is renamed to  15_blue.ti.tif\n",
      "15_green.ti  is renamed to  15_green.ti.tif\n",
      "15_red.ti  is renamed to  15_red.ti.tif\n",
      "16_blue.ti  is renamed to  16_blue.ti.tif\n",
      "16_green.ti  is renamed to  16_green.ti.tif\n",
      "16_red.ti  is renamed to  16_red.ti.tif\n",
      "17_blue.ti  is renamed to  17_blue.ti.tif\n",
      "17_green.ti  is renamed to  17_green.ti.tif\n",
      "17_red.ti  is renamed to  17_red.ti.tif\n",
      "1_blue.ti  is renamed to  1_blue.ti.tif\n",
      "1_green.ti  is renamed to  1_green.ti.tif\n",
      "1_red.ti  is renamed to  1_red.ti.tif\n",
      "20_blue.ti  is renamed to  20_blue.ti.tif\n",
      "20_green.ti  is renamed to  20_green.ti.tif\n",
      "20_red.ti  is renamed to  20_red.ti.tif\n",
      "22_blue.ti  is renamed to  22_blue.ti.tif\n",
      "22_green.ti  is renamed to  22_green.ti.tif\n",
      "22_red.ti  is renamed to  22_red.ti.tif\n",
      "24_blue.ti  is renamed to  24_blue.ti.tif\n",
      "24_green.ti  is renamed to  24_green.ti.tif\n",
      "24_red.ti  is renamed to  24_red.ti.tif\n",
      "25_blue.ti  is renamed to  25_blue.ti.tif\n",
      "25_green.ti  is renamed to  25_green.ti.tif\n",
      "25_red.ti  is renamed to  25_red.ti.tif\n",
      "2_blue.ti  is renamed to  2_blue.ti.tif\n",
      "2_green.ti  is renamed to  2_green.ti.tif\n",
      "2_red.ti  is renamed to  2_red.ti.tif\n",
      "32_blue.ti  is renamed to  32_blue.ti.tif\n",
      "32_green.ti  is renamed to  32_green.ti.tif\n",
      "32_red.ti  is renamed to  32_red.ti.tif\n",
      "35_blue.ti  is renamed to  35_blue.ti.tif\n",
      "35_green.ti  is renamed to  35_green.ti.tif\n",
      "35_red.ti  is renamed to  35_red.ti.tif\n",
      "36_blue.ti  is renamed to  36_blue.ti.tif\n",
      "36_green.ti  is renamed to  36_green.ti.tif\n",
      "36_red.ti  is renamed to  36_red.ti.tif\n",
      "3_blue.ti  is renamed to  3_blue.ti.tif\n",
      "3_green.ti  is renamed to  3_green.ti.tif\n",
      "3_red.ti  is renamed to  3_red.ti.tif\n",
      "43_blue.ti  is renamed to  43_blue.ti.tif\n",
      "43_green.ti  is renamed to  43_green.ti.tif\n",
      "43_red.ti  is renamed to  43_red.ti.tif\n",
      "44_blue.ti  is renamed to  44_blue.ti.tif\n",
      "44_green.ti  is renamed to  44_green.ti.tif\n",
      "44_red.ti  is renamed to  44_red.ti.tif\n",
      "45_blue.ti  is renamed to  45_blue.ti.tif\n",
      "45_green.ti  is renamed to  45_green.ti.tif\n",
      "45_red.ti  is renamed to  45_red.ti.tif\n",
      "46_blue.ti  is renamed to  46_blue.ti.tif\n",
      "46_green.ti  is renamed to  46_green.ti.tif\n",
      "46_red.ti  is renamed to  46_red.ti.tif\n",
      "47_blue.ti  is renamed to  47_blue.ti.tif\n",
      "47_green.ti  is renamed to  47_green.ti.tif\n",
      "47_red.ti  is renamed to  47_red.ti.tif\n",
      "48_blue.ti  is renamed to  48_blue.ti.tif\n",
      "48_green.ti  is renamed to  48_green.ti.tif\n",
      "48_red.ti  is renamed to  48_red.ti.tif\n",
      "4_blue.ti  is renamed to  4_blue.ti.tif\n",
      "4_green.ti  is renamed to  4_green.ti.tif\n",
      "4_red.ti  is renamed to  4_red.ti.tif\n",
      "51_blue.ti  is renamed to  51_blue.ti.tif\n",
      "51_green.ti  is renamed to  51_green.ti.tif\n",
      "51_red.ti  is renamed to  51_red.ti.tif\n",
      "53_blue.ti  is renamed to  53_blue.ti.tif\n",
      "53_green.ti  is renamed to  53_green.ti.tif\n",
      "53_red.ti  is renamed to  53_red.ti.tif\n",
      "54_blue.ti  is renamed to  54_blue.ti.tif\n",
      "54_green.ti  is renamed to  54_green.ti.tif\n",
      "54_red.ti  is renamed to  54_red.ti.tif\n",
      "55_blue.ti  is renamed to  55_blue.ti.tif\n",
      "55_green.ti  is renamed to  55_green.ti.tif\n",
      "55_red.ti  is renamed to  55_red.ti.tif\n",
      "57_blue.ti  is renamed to  57_blue.ti.tif\n",
      "57_green.ti  is renamed to  57_green.ti.tif\n",
      "57_red.ti  is renamed to  57_red.ti.tif\n",
      "64_blue.ti  is renamed to  64_blue.ti.tif\n",
      "64_green.ti  is renamed to  64_green.ti.tif\n",
      "64_red.ti  is renamed to  64_red.ti.tif\n",
      "65_blue.ti  is renamed to  65_blue.ti.tif\n",
      "65_green.ti  is renamed to  65_green.ti.tif\n",
      "65_red.ti  is renamed to  65_red.ti.tif\n",
      "72_blue.ti  is renamed to  72_blue.ti.tif\n",
      "72_green.ti  is renamed to  72_green.ti.tif\n",
      "72_red.ti  is renamed to  72_red.ti.tif\n",
      "74_blue.ti  is renamed to  74_blue.ti.tif\n",
      "74_green.ti  is renamed to  74_green.ti.tif\n",
      "74_red.ti  is renamed to  74_red.ti.tif\n",
      "75_blue.ti  is renamed to  75_blue.ti.tif\n",
      "75_green.ti  is renamed to  75_green.ti.tif\n",
      "75_red.ti  is renamed to  75_red.ti.tif\n",
      "77_blue.ti  is renamed to  77_blue.ti.tif\n",
      "77_green.ti  is renamed to  77_green.ti.tif\n",
      "77_red.ti  is renamed to  77_red.ti.tif\n",
      "81_blue.ti  is renamed to  81_blue.ti.tif\n",
      "81_green.ti  is renamed to  81_green.ti.tif\n",
      "81_red.ti  is renamed to  81_red.ti.tif\n",
      "82_blue.ti  is renamed to  82_blue.ti.tif\n",
      "82_green.ti  is renamed to  82_green.ti.tif\n",
      "82_red.ti  is renamed to  82_red.ti.tif\n",
      "87_blue.ti  is renamed to  87_blue.ti.tif\n",
      "87_green.ti  is renamed to  87_green.ti.tif\n",
      "87_red.ti  is renamed to  87_red.ti.tif\n",
      "88_blue.ti  is renamed to  88_blue.ti.tif\n",
      "88_green.ti  is renamed to  88_green.ti.tif\n",
      "88_red.ti  is renamed to  88_red.ti.tif\n",
      "9_blue.ti  is renamed to  9_blue.ti.tif\n",
      "9_green.ti  is renamed to  9_green.ti.tif\n",
      "9_red.ti  is renamed to  9_red.ti.tif\n"
     ]
    }
   ],
   "source": [
    "for i in range(0, len(files)):\n",
    "    a = []\n",
    "    b = []\n",
    "    a = files[i]\n",
    "    #b = a.split(\"_\",3)\n",
    "    c = a + \".tif\"\n",
    "    \n",
    "    os.chdir(\"C:/Users/Saurabh/Desktop/_50_/classes/01/\")\n",
    "    os.rename(a,c)\n",
    "    print(a, \" is renamed to \",c)\n"
   ]
  },
  {
   "cell_type": "code",
   "execution_count": null,
   "metadata": {
    "collapsed": true
   },
   "outputs": [],
   "source": []
  }
 ],
 "metadata": {
  "kernelspec": {
   "display_name": "Python 3",
   "language": "python",
   "name": "python3"
  },
  "language_info": {
   "codemirror_mode": {
    "name": "ipython",
    "version": 3
   },
   "file_extension": ".py",
   "mimetype": "text/x-python",
   "name": "python",
   "nbconvert_exporter": "python",
   "pygments_lexer": "ipython3",
   "version": "3.5.3"
  }
 },
 "nbformat": 4,
 "nbformat_minor": 2
}
