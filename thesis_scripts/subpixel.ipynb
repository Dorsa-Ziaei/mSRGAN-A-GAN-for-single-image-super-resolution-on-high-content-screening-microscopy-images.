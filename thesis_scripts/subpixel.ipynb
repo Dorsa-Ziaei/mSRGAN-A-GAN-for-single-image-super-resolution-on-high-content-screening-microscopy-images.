{
 "cells": [
  {
   "cell_type": "markdown",
   "metadata": {},
   "source": [
    "# Works on TF but not on keras, made some changes to run on tf v.1.0.\n",
    "# Consider using Lambda layer (whatever that is)"
   ]
  },
  {
   "cell_type": "code",
   "execution_count": null,
   "metadata": {
    "collapsed": true
   },
   "outputs": [],
   "source": []
  },
  {
   "cell_type": "code",
   "execution_count": 9,
   "metadata": {
    "collapsed": true
   },
   "outputs": [],
   "source": [
    "import matplotlib.pyplot as plt\n",
    "import tensorflow as tf\n",
    "import numpy as np\n",
    "\n",
    "\n",
    "def _phase_shift(I, r):\n",
    "    bsize, a, b, c = I.get_shape().as_list()\n",
    "    bsize = tf.shape(I)[0] # Handling Dimension(None) type for undefined batch dim\n",
    "    X = tf.reshape(I, (bsize, a, b, r, r))\n",
    "    X = tf.transpose(X, (0, 1, 2, 4, 3))  # bsize, a, b, 1, 1\n",
    "    #X = tf.split(1, a, X)  # a, [bsize, b, r, r]\n",
    "    X = tf.split(X, a, 1)\n",
    "    X = tf.concat( [tf.squeeze(x) for x in X], 2)  # bsize, b, a*r, r\n",
    "    #X = tf.split(1, b, X)  # b, [bsize, a*r, r]\n",
    "    X = tf.split(X, b, 1)\n",
    "    X = tf.concat( [tf.squeeze(x) for x in X], 2)  # bsize, a*r, b*r\n",
    "    return tf.reshape(X, (bsize, a*r, b*r, 1))\n",
    "\n",
    "\n",
    "def PS(X, r, color=False):\n",
    "    if color:\n",
    "        Xc = tf.split(X, 3, 3)\n",
    "        X = tf.concat( [_phase_shift(x, r) for x in Xc],3)\n",
    "    else:\n",
    "        X = _phase_shift(X, r)\n",
    "    return X\n",
    "\n"
   ]
  },
  {
   "cell_type": "code",
   "execution_count": null,
   "metadata": {
    "collapsed": true
   },
   "outputs": [],
   "source": []
  },
  {
   "cell_type": "code",
   "execution_count": 10,
   "metadata": {},
   "outputs": [
    {
     "data": {
      "image/png": "[encoded data removed]",
      "text/plain": [
       "<matplotlib.figure.Figure at 0x7f3b9bb05ba8>"
      ]
     },
     "metadata": {},
     "output_type": "display_data"
    }
   ],
   "source": [
    "if __name__ == \"__main__\":\n",
    "    with tf.Session() as sess:\n",
    "        x = np.arange(2*16*16).reshape(2, 8, 8, 4)\n",
    "        X = tf.placeholder(\"float32\", shape=(2, 8, 8, 4), name=\"X\")# tf.Variable(x, name=\"X\")\n",
    "        Y = PS(X, 2)\n",
    "        y = sess.run(Y, feed_dict={X: x})\n",
    "\n",
    "        x2 = np.arange(2*3*16*16).reshape(2, 8, 8, 4*3)\n",
    "        X2 = tf.placeholder(\"float32\", shape=(2, 8, 8, 4*3), name=\"X\")# tf.Variable(x, name=\"X\")\n",
    "        Y2 = PS(X2, 2, color=True)\n",
    "        y2 = sess.run(Y2, feed_dict={X2: x2})\n",
    "        #print y2.shape\n",
    "    plt.imshow(y[0, :, :, 0], interpolation=\"none\")\n",
    "    plt.show()"
   ]
  },
  {
   "cell_type": "code",
   "execution_count": null,
   "metadata": {
    "collapsed": true
   },
   "outputs": [],
   "source": []
  }
 ],
 "metadata": {
  "kernelspec": {
   "display_name": "Python 3",
   "language": "python",
   "name": "python3"
  },
  "language_info": {
   "codemirror_mode": {
    "name": "ipython",
    "version": 3
   },
   "file_extension": ".py",
   "mimetype": "text/x-python",
   "name": "python",
   "nbconvert_exporter": "python",
   "pygments_lexer": "ipython3",
   "version": "3.5.3"
  }
 },
 "nbformat": 4,
 "nbformat_minor": 2
}
